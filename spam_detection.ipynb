{
 "cells": [
  {
   "cell_type": "markdown",
   "id": "a241eaba",
   "metadata": {},
   "source": [
    "# About the Dataset\n",
    "Hopkins et al. (1999) created the Spambase data set donated to the UCI Machine Learning Repository (https://archive.ics.uci.edu/dataset/94/spambase). The data set contains 4,601 emails marked as spam or non-spam by a postmaster or individuals. Fifty-seven features aid in classifying emails as spam (e.g. word frequencies and email characteristics). The Spambase data set is used for developing and benchmarking spam detection models, providing a base for analysing the effectiveness of various machine learning techniques in distinguishing between spam and legitimate emails.\n",
    "\n",
    "# Objective\n",
    "Develop a neural network with TensorFlow that can classify emails as spam or non-spam. .\n",
    "\n",
    "# Approach\n",
    "\n",
    "- create a sequential API\n",
    "- add layers as needed\n",
    "- employ the model pipeline (compile, fit, and evaluate)\n",
    "- present your insights based on the performance of the model."
   ]
  },
  {
   "cell_type": "code",
   "execution_count": null,
   "id": "0d5d8f9f",
   "metadata": {
    "vscode": {
     "languageId": "plaintext"
    }
   },
   "outputs": [],
   "source": [
    "# Import dataset"
   ]
  },
  {
   "cell_type": "markdown",
   "id": "b4fa6342",
   "metadata": {},
   "source": [
    "# Import required libraries"
   ]
  },
  {
   "cell_type": "markdown",
   "id": "675683af",
   "metadata": {},
   "source": [
    "# Exploratory Data Analysis"
   ]
  },
  {
   "cell_type": "markdown",
   "id": "02b2e14a",
   "metadata": {},
   "source": [
    "# Training and Test Set split"
   ]
  },
  {
   "cell_type": "markdown",
   "id": "8ec4b8fc",
   "metadata": {},
   "source": [
    "# Standardise dataset"
   ]
  },
  {
   "cell_type": "markdown",
   "id": "3f114585",
   "metadata": {},
   "source": [
    "# Define sequential model"
   ]
  },
  {
   "cell_type": "markdown",
   "id": "616deb3b",
   "metadata": {},
   "source": [
    "# Train and Fit model"
   ]
  },
  {
   "cell_type": "markdown",
   "id": "587f0127",
   "metadata": {},
   "source": [
    "# Model Evaluation"
   ]
  },
  {
   "cell_type": "markdown",
   "id": "b5119a58",
   "metadata": {},
   "source": [
    "# Reflection and further improvement idea"
   ]
  }
 ],
 "metadata": {
  "language_info": {
   "name": "python"
  }
 },
 "nbformat": 4,
 "nbformat_minor": 5
}
