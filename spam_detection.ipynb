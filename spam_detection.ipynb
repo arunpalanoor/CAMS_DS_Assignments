{
 "cells": [
  {
   "cell_type": "markdown",
   "id": "a241eaba",
   "metadata": {},
   "source": [
    "# About the Dataset\n",
    "Hopkins et al. (1999) created the Spambase data set donated to the UCI Machine Learning Repository (https://archive.ics.uci.edu/dataset/94/spambase). The data set contains 4,601 emails marked as spam or non-spam by a postmaster or individuals. Fifty-seven features aid in classifying emails as spam (e.g. word frequencies and email characteristics). The Spambase data set is used for developing and benchmarking spam detection models, providing a base for analysing the effectiveness of various machine learning techniques in distinguishing between spam and legitimate emails.\n",
    "\n",
    "# Objective\n",
    "Develop a neural network with TensorFlow that can classify emails as spam or non-spam. .\n",
    "\n",
    "# Approach\n",
    "\n",
    "- create a sequential API\n",
    "- add layers as needed\n",
    "- employ the model pipeline (compile, fit, and evaluate)\n",
    "- present your insights based on the performance of the model."
   ]
  }
 ],
 "metadata": {
  "language_info": {
   "name": "python"
  }
 },
 "nbformat": 4,
 "nbformat_minor": 5
}
